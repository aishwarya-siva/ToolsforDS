{
 "cells": [
  {
   "cell_type": "markdown",
   "id": "c8862773-1a28-4a93-b83b-2c884e1612f2",
   "metadata": {},
   "source": [
    "# Data Science Environment and Tools"
   ]
  },
  {
   "cell_type": "markdown",
   "id": "fd72e07d-f1ed-4fd3-a995-ce9ace89a15a",
   "metadata": {},
   "source": [
    "In this notebook, Data Science Tools and Ecosystem are summarized."
   ]
  },
  {
   "cell_type": "markdown",
   "id": "f902e462-fca5-4573-91f3-f29aec1efdf9",
   "metadata": {},
   "source": [
    "Some of the popular languages that Data Scientists use are:\n",
    "1. Python\n",
    "2. R\n",
    "3. Julia\n",
    "4. Scala"
   ]
  },
  {
   "cell_type": "markdown",
   "id": "ea876093-a9ce-4810-ad6c-2a8fe89d8580",
   "metadata": {},
   "source": [
    "Some of the commonly used libraries used by Data Scientists include:\n",
    "1. TensorFlow\n",
    "2. NumPy\n",
    "3. SciKit-Learn\n",
    "4. Matplotlib\n",
    "5. Keras\n",
    "6. Pandas"
   ]
  },
  {
   "cell_type": "markdown",
   "id": "0f3d64a6-251f-4a24-aed2-055849101e20",
   "metadata": {},
   "source": [
    "|Data Science Tools|\n",
    "|------|\n",
    "|Jupyter Notebooks|\n",
    "|R Studio|\n",
    "|Apache Hadoop|\n",
    "|Tensorflow|"
   ]
  },
  {
   "cell_type": "markdown",
   "id": "78515e91-a14f-4117-997c-d3bbd7ac2893",
   "metadata": {},
   "source": [
    "### Below are a few examples of evaluating arithmetic expressions in Python"
   ]
  },
  {
   "cell_type": "code",
   "execution_count": 2,
   "id": "881d8e49-5ce2-462b-a584-0d442701a13e",
   "metadata": {},
   "outputs": [
    {
     "data": {
      "text/plain": [
       "17"
      ]
     },
     "execution_count": 2,
     "metadata": {},
     "output_type": "execute_result"
    }
   ],
   "source": [
    "#This a simple arithmetic expression to mutiply then add integers\n",
    "(3*4)+5"
   ]
  },
  {
   "cell_type": "code",
   "execution_count": 3,
   "id": "c70518f6-95b9-4570-afda-7043a634f19d",
   "metadata": {},
   "outputs": [
    {
     "data": {
      "text/plain": [
       "3.3333333333333335"
      ]
     },
     "execution_count": 3,
     "metadata": {},
     "output_type": "execute_result"
    }
   ],
   "source": [
    "#This will convert 200 minutes to hours by diving by 60\n",
    "200/60"
   ]
  },
  {
   "cell_type": "markdown",
   "id": "02e267ff-294e-4015-af93-6c9b4ceea924",
   "metadata": {},
   "source": [
    "**Objectives:**\n",
    "- List popular languages for Data Science\n",
    "- List popular libraries for Data Science\n",
    "- List of Well known Data Science Tools\n",
    "- Using comments\n",
    "- Implementing simple codes"
   ]
  },
  {
   "cell_type": "markdown",
   "id": "04b66a98-a60f-4904-8761-f67eed1b1170",
   "metadata": {},
   "source": [
    "## Author\n",
    "Aishwarya"
   ]
  },
  {
   "cell_type": "code",
   "execution_count": null,
   "id": "a59f79dc-382e-4a6d-b787-02a7db00d2e4",
   "metadata": {},
   "outputs": [],
   "source": []
  }
 ],
 "metadata": {
  "kernelspec": {
   "display_name": "Python 3 (ipykernel)",
   "language": "python",
   "name": "python3"
  },
  "language_info": {
   "codemirror_mode": {
    "name": "ipython",
    "version": 3
   },
   "file_extension": ".py",
   "mimetype": "text/x-python",
   "name": "python",
   "nbconvert_exporter": "python",
   "pygments_lexer": "ipython3",
   "version": "3.12.7"
  }
 },
 "nbformat": 4,
 "nbformat_minor": 5
}
